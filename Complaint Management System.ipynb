{
 "cells": [
  {
   "cell_type": "code",
   "execution_count": 5,
   "id": "13d527c2-5a20-42df-a94d-64beb6e8ea60",
   "metadata": {},
   "outputs": [],
   "source": [
    "#Complaint class to store complaint details\n",
    "class Complaint:\n",
    "    def init(self, complaint_id, title, description, status):\n",
    "        self.complaint_id = complaint_id\n",
    "        self.title = title\n",
    "        self.description = description\n",
    "        self.status = status"
   ]
  },
  {
   "cell_type": "code",
   "execution_count": 15,
   "id": "88c07fab-3462-4728-9faa-c7158363a708",
   "metadata": {},
   "outputs": [],
   "source": [
    "#Complaint management system class\n",
    "class ComplaintManagementSystem:\n",
    "    def init(self):\n",
    "        self.complaints = []\n",
    "\n",
    "    def register_complaint(self, title, description):\n",
    "        complaint_id = len(self.complaints)+1\n",
    "        status = 'Pending'\n",
    "        complaint = Complaint(complaint_id, title, description, status)\n",
    "        self.complaints.append(complaint)\n",
    "        print(\"Complaint registered successfully\")\n",
    "\n",
    "    def view_complaints(self):\n",
    "        if not self.complaints:\n",
    "            print(\"No complaints registered\")\n",
    "        else:\n",
    "             for complaint in self.complaints:\n",
    "                print(f\"Complaint_id: {complaint.complaint_id}\")\n",
    "                print(f\"Title: {complaint.title}\")\n",
    "                print(f\"Description: {complaint.description}\")\n",
    "                print(f\"Status: {complaint.status}\")\n",
    "                print(\"__________________\")\n",
    "\n",
    "    def update_complaint_status(self, complaint_id, new_status):\n",
    "        for complaint in self.complaints:\n",
    "            if complaint.complaint_id == complaint_id:\n",
    "                complaint.status = new_status\n",
    "                print(\"Complaint status updated successfully\")\n",
    "                return\n",
    "                print(\"Complaint not found\")\n"
   ]
  },
  {
   "cell_type": "code",
   "execution_count": 25,
   "id": "df90e1a1-9956-4f74-8dee-5601ead96bdc",
   "metadata": {},
   "outputs": [],
   "source": [
    "#Main function to run Complaint management system\n",
    "def main():\n",
    "    cms = ComplaintManagementSystem()\n",
    "    while True:\n",
    "        print(\"\\nComplaint Management System\")\n",
    "        print(\"1. Register Complaint\")\n",
    "        print(\"2. View Complaint\")\n",
    "        print(\"3. Update Complaint Status\")\n",
    "        print(\"4. Exit\")\n",
    "        choice = input(\"Enter your choice:\")\n",
    "        if choice == \"1\":\n",
    "            title = input(\"Enter Complaint title:\")\n",
    "            description = input(\"Enter Complaint description:\")\n",
    "            cms.register_complaint(title, description)\n",
    "        elif choice == \"2\":\n",
    "            cms.view_complaints()\n",
    "        elif choice == \"3\":\n",
    "            complaint_id = int(input(\"Enter Complaint ID:\"))\n",
    "            new_status = input(\"Enter new status:\")\n",
    "            cms.update_complaint_status(complaint_id, new_status)\n",
    "        elif choice == \"4\":\n",
    "            print(\"Exiting the Complaint Management System\")\n",
    "            break\n",
    "        else:\n",
    "            print(\"Invalid choice. Please try again.\")\n",
    "\n"
   ]
  },
  {
   "cell_type": "code",
   "execution_count": null,
   "id": "3c0c8584-47f7-4fd7-b84c-293eb388d457",
   "metadata": {},
   "outputs": [],
   "source": []
  },
  {
   "cell_type": "code",
   "execution_count": null,
   "id": "b2b1ea0f-5ffc-457b-b343-472e195d7cff",
   "metadata": {},
   "outputs": [],
   "source": []
  }
 ],
 "metadata": {
  "kernelspec": {
   "display_name": "Python 3 (ipykernel)",
   "language": "python",
   "name": "python3"
  },
  "language_info": {
   "codemirror_mode": {
    "name": "ipython",
    "version": 3
   },
   "file_extension": ".py",
   "mimetype": "text/x-python",
   "name": "python",
   "nbconvert_exporter": "python",
   "pygments_lexer": "ipython3",
   "version": "3.12.4"
  }
 },
 "nbformat": 4,
 "nbformat_minor": 5
}
